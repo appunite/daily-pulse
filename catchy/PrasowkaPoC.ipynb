{
  "nbformat": 4,
  "nbformat_minor": 0,
  "metadata": {
    "colab": {
      "provenance": []
    },
    "kernelspec": {
      "name": "python3",
      "display_name": "Python 3"
    },
    "language_info": {
      "name": "python"
    }
  },
  "cells": [
    {
      "cell_type": "markdown",
      "source": [
        "# Initialize"
      ],
      "metadata": {
        "id": "7L2H5N7uiScZ"
      }
    },
    {
      "cell_type": "markdown",
      "source": [
        "# Initialization"
      ],
      "metadata": {
        "id": "kvmKbKxZfy-C"
      }
    },
    {
      "cell_type": "code",
      "execution_count": null,
      "metadata": {
        "id": "4pT8IHwViJrD"
      },
      "outputs": [],
      "source": [
        "pip install langchain openai tiktoken slack_sdk python-slugify"
      ]
    },
    {
      "cell_type": "code",
      "source": [
        "import os\n",
        "\n",
        "os.environ[\"OPENAI_API_KEY\"] = \"\"\n",
        "os.environ[\"SLACK_BOT_TOKEN\"] = \"\"\n",
        "os.environ[\"SLACK_BOT_CHANNEL\"] = \"\"\n",
        "os.environ[\"DEBUG_MODE\"] = \"TRUE\"\n",
        "os.environ[\"LLM_TEMP\"] = \"0\"\n",
        "os.environ[\"LLM_CREATIVE_TEMP\"] = \"1\""
      ],
      "metadata": {
        "id": "XqEhXZIBV12a"
      },
      "execution_count": 26,
      "outputs": []
    },
    {
      "cell_type": "code",
      "source": [
        "import os\n",
        "from langchain.llms import OpenAI\n",
        "\n",
        "llm = OpenAI(temperature=int(os.environ[\"LLM_TEMP\"]))\n",
        "llm_creative = OpenAI(temperature=int(os.environ[\"LLM_CREATIVE_TEMP\"]))"
      ],
      "metadata": {
        "id": "k8E8-UAXiX42"
      },
      "execution_count": 27,
      "outputs": []
    },
    {
      "cell_type": "code",
      "source": [
        "import os\n",
        "from slack_sdk import WebClient\n",
        "from slack_sdk.errors import SlackApiError\n",
        "\n",
        "slack_token = os.environ[\"SLACK_BOT_TOKEN\"]\n",
        "slack_client = WebClient(token=slack_token)"
      ],
      "metadata": {
        "id": "uUrklLMcVlKJ"
      },
      "execution_count": 7,
      "outputs": []
    },
    {
      "cell_type": "markdown",
      "source": [
        "# Slack"
      ],
      "metadata": {
        "id": "OdZRMXPjWJFb"
      }
    },
    {
      "cell_type": "code",
      "source": [
        "def sendMessageToChannel (message, previous_response=None):\n",
        "  thread_ts = None if previous_response is None else previous_response['ts']\n",
        "\n",
        "  return slack_client.chat_postMessage(\n",
        "        channel=os.environ[\"SLACK_BOT_CHANNEL\"],\n",
        "        text=message,\n",
        "        type=\"mrkdwn\",\n",
        "        thread_ts=thread_ts\n",
        "  )"
      ],
      "metadata": {
        "id": "xo5ZVfKOWK7a"
      },
      "execution_count": 8,
      "outputs": []
    },
    {
      "cell_type": "markdown",
      "source": [
        "# Texts utils"
      ],
      "metadata": {
        "id": "a8xfWy9if1al"
      }
    },
    {
      "cell_type": "code",
      "source": [
        "from datetime import date, timedelta\n",
        "\n",
        "def getFormattedCurrentDate ():\n",
        "    today = date.today() + timedelta(days=-1)\n",
        "    return today.strftime(\"%d-%m-%Y\")"
      ],
      "metadata": {
        "id": "3hhSIl1WkquD"
      },
      "execution_count": 9,
      "outputs": []
    },
    {
      "cell_type": "code",
      "source": [
        "from glob import glob\n",
        "from string import Template\n",
        "from langchain.docstore.document import Document\n",
        "\n",
        "def getFilesFromPreviousDay ():\n",
        "  currentDate = getFormattedCurrentDate()\n",
        "  path_template = Template('drive/MyDrive/prasowka/$currentDate/*')\n",
        "  path = path_template.substitute(currentDate=currentDate)\n",
        "  return glob(path)\n",
        "\n",
        "def getFileNameFromPreviousDayByIndex (index):\n",
        "  files = getFilesFromPreviousDay()\n",
        "  return files[index].split(\"/\").pop()\n",
        "\n",
        "def getDocumentsTexts ():\n",
        "  files = getFilesFromPreviousDay()\n",
        "\n",
        "  for file_key, file in enumerate(files):\n",
        "    with open(file) as f: contents = f.read()\n",
        "    files[file_key] = contents\n",
        "\n",
        "  return files\n",
        "\n",
        "def mapTextsToDocuments (texts):\n",
        "  return [Document(page_content=t) for t in texts]\n",
        "\n",
        "def getDocuments ():\n",
        "  texts = getDocumentsTexts()\n",
        "  return mapTextsToDocuments(texts)"
      ],
      "metadata": {
        "id": "tS4nNBV61t1G"
      },
      "execution_count": 47,
      "outputs": []
    },
    {
      "cell_type": "code",
      "source": [
        "from slugify import slugify\n",
        "\n",
        "def getLinkToDocumentByFileIndex (index):\n",
        "  file_name = getFileNameFromPreviousDayByIndex(index).replace(\".md\", \"\")\n",
        "  file_name_slug = slugify(file_name)\n",
        "  return (f\"https://www.notion.so/appunite/{file_name_slug}\")"
      ],
      "metadata": {
        "id": "u7HTcUdNjMJP"
      },
      "execution_count": 66,
      "outputs": []
    },
    {
      "cell_type": "markdown",
      "source": [
        "# Prompts"
      ],
      "metadata": {
        "id": "-sXRMPkLjWXP"
      }
    },
    {
      "cell_type": "code",
      "source": [
        "from langchain.prompts import PromptTemplate\n",
        "\n",
        "SUMMARIZE_SINGLE_LONG_PROMPT_TEMPLATE = \"\"\"Summarize text below in points. Provide important information.\n",
        "\n",
        "Summarize Title\n",
        "Summarize \"Context\"\n",
        "Summarize \"What problems do we aim to solve\"\n",
        "Summarize \"Hypothesis\"\n",
        "Summarize \"Implementation plan\"\n",
        "Summarize \"Why the owner(s) should make this decision\"\n",
        "Summarize final decision\n",
        "\n",
        "{text}\n",
        "\"\"\"\n",
        "\n",
        "SUMMARIZE_SINGLE_SHORT_PROMPT_TEMPLATE = \"\"\"\n",
        "Summarize the following information in a short, catchy, engaging sentence in English. Use one emoji referring to the text.\n",
        "\n",
        "Examples (DO NOT USE THEM):\n",
        "- 😒 Our health industry client in the USA is proving to be a bit difficult with their lack of openness and strange demands. Plus, they won't even review our NDA template. Can we really trust them?\n",
        "- 📈 We're migrating to GA4 and creating a Slack channel to keep things organized. Efficiency, baby!\n",
        "- 🤝 Our improved exit interview process will give us valuable feedback and keep the team running smoothly.\n",
        "- 🚀 We're launching a new product next month and our team is working tirelessly to make it a success. Buckle up, it's going to be a wild ride!\n",
        "- 👥 We're expanding our team and hiring for several positions. Know anyone who would be a perfect fit? Let us know!\n",
        "\n",
        "TEXT:\n",
        "{text}\n",
        "\"\"\"\n",
        "\n",
        "SUMMARIZE_TITLE_DAY_PROMPT_TEMPLATE = \"\"\"\n",
        "Write similar title of a message which will include a summary of decisions from yesterday. Use emojis.\n",
        "\n",
        "Examples (do not use them):\n",
        "🔥 We made some 🔝 moves yesterday! Check out what's new!\n",
        "🎉 Exciting news! Big things were made yesterday! 🙌\n",
        "🤯 Hold onto your hats! Yesterday's documents will blow your mind!\n",
        "🚀 Blast off into the future! Yesterday's decisions will take us to new heights! 🚀\n",
        "💥 Brace yourselves! We've got some major updates that will blow your mind! \n",
        "🎊 Hold onto your seats, exciting news is coming your way! 🎉\n",
        "😱 Get ready to be amazed! We've got some incredible developments to share with you!\n",
        "🌟 It's time to shine! Our latest moves will take us to the next level! ✨\n",
        "🚀 Buckle up, we're launching into a new era of success! 🚀\n",
        "\n",
        "\n",
        "\"\"\"\n",
        "\n",
        "SUMMARIZE_CTA_DAY_PROMPT_TEMPLATE = \"\"\"\n",
        "Write a catchy sentence ending a summary of decisions from yesterday. Use emojis.\n",
        "\"\"\"\n",
        "\n",
        "SUMMARIZE_SINGLE_LONG_PROMPT = PromptTemplate(template=SUMMARIZE_SINGLE_LONG_PROMPT_TEMPLATE, input_variables=[\"text\"])\n",
        "SUMMARIZE_SINGLE_SHORT_PROMPT = PromptTemplate(template=SUMMARIZE_SINGLE_SHORT_PROMPT_TEMPLATE, input_variables=[\"text\"])\n",
        "SUMMARIZE_TITLE_DAY_PROMPT = PromptTemplate(template=SUMMARIZE_TITLE_DAY_PROMPT_TEMPLATE, input_variables=[])\n",
        "SUMMARIZE_CTA_DAY_PROMPT = PromptTemplate(template=SUMMARIZE_CTA_DAY_PROMPT_TEMPLATE, input_variables=[])"
      ],
      "metadata": {
        "id": "vPgs234HjYFW"
      },
      "execution_count": 57,
      "outputs": []
    },
    {
      "cell_type": "markdown",
      "source": [
        "# Summarization of texts"
      ],
      "metadata": {
        "id": "TTtMzO8lf7BO"
      }
    },
    {
      "cell_type": "code",
      "source": [
        "import asyncio\n",
        "\n",
        "async def promptSingleText (chain, text):\n",
        "  return await chain.arun({\"input_documents\": [text], \"text\": text})\n",
        "\n",
        "async def promptMultipleTexts (chain, texts):\n",
        "  texts_prompt_promise = [promptSingleText(chain, t) for t in texts]\n",
        "  texts_prompt = await asyncio.gather(*texts_prompt_promise)\n",
        "  return texts_prompt"
      ],
      "metadata": {
        "id": "n-oXp0w_gbCy"
      },
      "execution_count": 3,
      "outputs": []
    },
    {
      "cell_type": "markdown",
      "source": [
        "# Summarization of whole day"
      ],
      "metadata": {
        "id": "JgOaOF2Rf_5q"
      }
    },
    {
      "cell_type": "code",
      "source": [
        "from langchain.chains.summarize import load_summarize_chain\n",
        "from langchain.chains import LLMChain\n",
        "\n",
        "# summarize chain provides auto text-splitting but we need to research more how it works\n",
        "# getSummarizeIndividualLongChain = lambda: load_summarize_chain(llm, chain_type=\"map_reduce\", map_prompt=SUMMARIZE_SINGLE_LONG_PROMPT)\n",
        "summarize_individual_long_chain = LLMChain(llm=llm, prompt=SUMMARIZE_SINGLE_LONG_PROMPT)\n",
        "# getSummarizeIndividualShortChain = lambda: load_summarize_chain(llm, chain_type=\"map_reduce\", map_prompt=SUMMARIZE_SINGLE_SHORT_PROMPT)\n",
        "summarize_individual_short_chain = LLMChain(llm=llm, prompt=SUMMARIZE_SINGLE_SHORT_PROMPT)\n",
        "#\n",
        "summarize_title_day_chain = LLMChain(llm=llm_creative, prompt=SUMMARIZE_TITLE_DAY_PROMPT)\n",
        "#\n",
        "summarize_cta_day_chain = LLMChain(llm=llm_creative, prompt=SUMMARIZE_CTA_DAY_PROMPT)\n",
        "\n",
        "async def getSummarizedLong (documents):\n",
        "  return await promptMultipleTexts(summarize_individual_long_chain, documents)\n",
        "\n",
        "async def getSummarizedShortOfLong (documents):\n",
        "  return await promptMultipleTexts(summarize_individual_short_chain, documents)\n",
        "\n",
        "async def getSummarizeTitle ():\n",
        "  return await promptSingleText(summarize_title_day_chain, '')\n",
        "\n",
        "async def getSummarizeCTA ():\n",
        "  return await promptSingleText(summarize_cta_day_chain, '')\n",
        "\n",
        "async def getSummarizedAllDayMessage (documents):\n",
        "  day_summarize_title, day_summarize_cta, documents_summarized_long = await asyncio.gather(*[getSummarizeTitle(), getSummarizeCTA(), getSummarizedLong(documents)])\n",
        "\n",
        "  day_summarize_title_escaped = day_summarize_title.replace('\"', '')\n",
        "  day_summarize_cta_escaped = day_summarize_cta.replace('\"', '')\n",
        "\n",
        "  documents_summarized_long_parsed = mapTextsToDocuments(documents_summarized_long)\n",
        "  documents_summarized_short = await getSummarizedShortOfLong(documents_summarized_long_parsed)\n",
        "  documents_summarized_list = [d.replace(\"\\n\", \"- \") for d in documents_summarized_short]\n",
        "  documents_summarized_list_with_links = [f\"{d} <{getLinkToDocumentByFileIndex(i)}|*[Learn more]*>\" for i, d in enumerate(documents_summarized_list)]\n",
        "  documents_summarized_combined = \"\\n\".join(documents_summarized_list_with_links)\n",
        "\n",
        "  message_template = Template('*$title*\\n\\n$documents_summarized_combined\\n$cta')\n",
        "  message = message_template.safe_substitute(title=day_summarize_title_escaped, documents_summarized_combined=documents_summarized_combined, cta=day_summarize_cta_escaped)\n",
        "\n",
        "  return message"
      ],
      "metadata": {
        "id": "kS9wDzLqoICl"
      },
      "execution_count": 61,
      "outputs": []
    },
    {
      "cell_type": "markdown",
      "source": [
        "# Bootstrap"
      ],
      "metadata": {
        "id": "n6kDj1ByllG9"
      }
    },
    {
      "cell_type": "code",
      "source": [
        "def getDebugInfo(time_of_exec):\n",
        "  return (f\"\"\"\n",
        "*time of execution:* {round(time_of_exec, 2)}s\n",
        "*llm base temp (summary)*: {os.environ[\"LLM_TEMP\"]}\n",
        "*llm creative temp (title, cta)*: {os.environ[\"LLM_CREATIVE_TEMP\"]}\n",
        "\n",
        "---\n",
        "\n",
        "*beginning prompt*: ```{SUMMARIZE_TITLE_DAY_PROMPT_TEMPLATE}```\\n\\n\n",
        "*summary long prompt*: ```{SUMMARIZE_SINGLE_SHORT_PROMPT_TEMPLATE}```\\n\\n\n",
        "*summary short prompt*: ```{SUMMARIZE_SINGLE_SHORT_PROMPT_TEMPLATE}```\\n\\n\n",
        "*ending prompt*: ```{SUMMARIZE_CTA_DAY_PROMPT_TEMPLATE}```\"\"\")"
      ],
      "metadata": {
        "id": "e2-c-nRdhS06"
      },
      "execution_count": 64,
      "outputs": []
    },
    {
      "cell_type": "code",
      "source": [
        "import time\n",
        "\n",
        "async def bootstrap ():\n",
        "  documents = getDocuments()\n",
        "  no_documents = len(documents) == 0\n",
        "  \n",
        "  if no_documents:\n",
        "    return\n",
        "  \n",
        "  start_time = time.time()\n",
        "  today_message = await getSummarizedAllDayMessage(documents)\n",
        "  end_time = time.time()\n",
        "  message_slack_response = sendMessageToChannel(today_message)\n",
        "\n",
        "  if os.environ[\"DEBUG_MODE\"]:\n",
        "    details = getDebugInfo(end_time - start_time)\n",
        "    sendMessageToChannel(details, message_slack_response)\n",
        "\n",
        "  print(today_message)\n",
        "\n",
        "await bootstrap()"
      ],
      "metadata": {
        "colab": {
          "base_uri": "https://localhost:8080/"
        },
        "id": "C0n1WzUbge2A",
        "outputId": "49b1709d-5e93-4af3-95cd-f0374cd17bf7"
      },
      "execution_count": 67,
      "outputs": [
        {
          "output_type": "stream",
          "name": "stdout",
          "text": [
            "*🤗 Our choices yesterday were 🔥! Let's review our decisions! 🤗*\n",
            "\n",
            "- 🤝 We're looking to build the best possible team and restart cooperation with a backend developer and team leader - introducing Damian Dębicki to the client! 🤝 <https://www.notion.so/appunite/lets-start-opnr-with-dembol-on-be-8ed0c1b95faf4c6ca5c72c2548765e95|*[Learn more]*>\n",
            "- 🤝 Adding Semir to the ReveryLabs team will help our current developers, convince the client of the value of a larger team, and solve our problems - all by May 5th! 🤝 <https://www.notion.so/appunite/we-would-like-to-add-semir-to-reverlylabs-team-eb109641c502448c8545a9a865464c94|*[Learn more]*>\n",
            "- 🤔 We're experimenting with a new tool to give our team context and help prioritize tasks - let's see if it works! <https://www.notion.so/appunite/marketing-will-start-using-different-approach-to-p-f5877ceb29ec48c49ebfda4874c95043|*[Learn more]*>\n",
            "- 🤝 Tadeusz Miesiac is proposed to take the role of owner of The Bench team to solve the lack of bench owner and give them authority to act. 🔨 <https://www.notion.so/appunite/tadeusz-miesiac-takes-the-owner-of-the-bench-team-e2d5217629b54a56b2c13b20ce5500d0|*[Learn more]*>\n",
            "\n",
            "Now it's time to take a breath and move forward with confidence--✨📈🎉\n"
          ]
        }
      ]
    }
  ]
}