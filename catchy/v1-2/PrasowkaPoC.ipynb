{
  "nbformat": 4,
  "nbformat_minor": 0,
  "metadata": {
    "colab": {
      "provenance": []
    },
    "kernelspec": {
      "name": "python3",
      "display_name": "Python 3"
    },
    "language_info": {
      "name": "python"
    }
  },
  "cells": [
    {
      "cell_type": "markdown",
      "source": [
        "# Initialize"
      ],
      "metadata": {
        "id": "7L2H5N7uiScZ"
      }
    },
    {
      "cell_type": "markdown",
      "source": [
        "# Initialization"
      ],
      "metadata": {
        "id": "kvmKbKxZfy-C"
      }
    },
    {
      "cell_type": "code",
      "execution_count": null,
      "metadata": {
        "id": "4pT8IHwViJrD"
      },
      "outputs": [],
      "source": [
        "pip install langchain openai tiktoken slack_sdk python-slugify"
      ]
    },
    {
      "cell_type": "code",
      "source": [
        "import os\n",
        "\n",
        "os.environ[\"OPENAI_API_KEY\"] = \"\"\n",
        "os.environ[\"SLACK_BOT_TOKEN\"] = \"\"\n",
        "os.environ[\"SLACK_BOT_CHANNEL\"] = \"\"\n",
        "os.environ[\"DEBUG_MODE\"] = \"TRUE\"\n",
        "os.environ[\"LLM_TEMP\"] = \"0\"\n",
        "os.environ[\"LLM_CREATIVE_TEMP\"] = \"1\""
      ],
      "metadata": {
        "id": "XqEhXZIBV12a"
      },
      "execution_count": null,
      "outputs": []
    },
    {
      "cell_type": "code",
      "source": [
        "import os\n",
        "from langchain.llms import OpenAI\n",
        "\n",
        "llm = OpenAI(temperature=int(os.environ[\"LLM_TEMP\"]))\n",
        "llm_creative = OpenAI(temperature=int(os.environ[\"LLM_CREATIVE_TEMP\"]))"
      ],
      "metadata": {
        "id": "k8E8-UAXiX42"
      },
      "execution_count": null,
      "outputs": []
    },
    {
      "cell_type": "code",
      "source": [
        "import os\n",
        "from slack_sdk import WebClient\n",
        "from slack_sdk.errors import SlackApiError\n",
        "\n",
        "slack_token = os.environ[\"SLACK_BOT_TOKEN\"]\n",
        "slack_client = WebClient(token=slack_token)"
      ],
      "metadata": {
        "id": "uUrklLMcVlKJ"
      },
      "execution_count": null,
      "outputs": []
    },
    {
      "cell_type": "markdown",
      "source": [
        "# Slack"
      ],
      "metadata": {
        "id": "OdZRMXPjWJFb"
      }
    },
    {
      "cell_type": "code",
      "source": [
        "def sendMessageToChannel (text=\"\", blocks=None, previous_response=None):\n",
        "  thread_ts = None if previous_response is None else previous_response['ts']\n",
        "\n",
        "  return slack_client.chat_postMessage(\n",
        "        channel=os.environ[\"SLACK_BOT_CHANNEL\"],\n",
        "        text=text,\n",
        "        blocks=blocks,\n",
        "        type=\"mrkdwn\",\n",
        "        thread_ts=thread_ts\n",
        "  )"
      ],
      "metadata": {
        "id": "xo5ZVfKOWK7a"
      },
      "execution_count": null,
      "outputs": []
    },
    {
      "cell_type": "code",
      "source": [
        "def getSlackMessageAsBlocks (title, cta, documents_summarized_list):\n",
        "  blocks = [\n",
        "    {\n",
        "\t\t\t\"type\": \"header\",\n",
        "\t\t\t\"text\": {\n",
        "\t\t\t\t\"type\": \"plain_text\",\n",
        "\t\t\t\t\"text\": title,\n",
        "\t\t\t\t\"emoji\": True\n",
        "\t\t\t}\n",
        "\t\t},\n",
        "  ]\n",
        "  \n",
        "  for index, text in enumerate(documents_summarized_list):\n",
        "    url = getLinkToDocumentByFileIndex(index)\n",
        "    section_title = getTitleOfDocumentByFileIndex(index)\n",
        "\n",
        "    blocks.append({\n",
        "\t\t\t\"type\": \"section\",\n",
        "\t\t\t\"text\": {\n",
        "\t\t\t\t\"type\": \"mrkdwn\",\n",
        "\t\t\t\t\"text\": f\"{text}\"\n",
        "\t\t\t},\n",
        "\t\t\t\"accessory\": {\n",
        "\t\t\t\t\"type\": \"button\",\n",
        "\t\t\t\t\"text\": {\n",
        "\t\t\t\t\t\"type\": \"plain_text\",\n",
        "\t\t\t\t\t\"emoji\": True,\n",
        "\t\t\t\t\t\"text\": \"Learn More\"\n",
        "\t\t\t\t},\n",
        "\t\t\t\t\"url\": url,\n",
        "\t\t\t\t\"action_id\": f\"button_{index}\"\n",
        "\t\t\t}\n",
        "\t\t})\n",
        "\n",
        "  blocks.append({\n",
        "     \"type\": \"divider\"\n",
        "  })\n",
        "\n",
        "  blocks.append(\n",
        "\t\t{\n",
        "\t\t\t\"type\": \"section\",\n",
        "\t\t\t\"text\": {\n",
        "\t\t\t\t\"type\": \"mrkdwn\",\n",
        "\t\t\t\t\"text\": cta\n",
        "\t\t\t}\n",
        "  })\n",
        "\n",
        "  return blocks"
      ],
      "metadata": {
        "id": "FNGDKdcFChRl"
      },
      "execution_count": null,
      "outputs": []
    },
    {
      "cell_type": "code",
      "source": [
        "def getSlackMessageAsPlainText (title, cta, documents_summarized_short):\n",
        "  documents_summarized_list = [d.replace(\"\\n\", \"- \") for d in documents_summarized_short]\n",
        "  documents_summarized_list_with_links = [f\"{d} `<{getLinkToDocumentByFileIndex(i)}|*[link]*>`\" for i, d in enumerate(documents_summarized_list)]\n",
        "  documents_summarized_combined = \"\\n\".join(documents_summarized_list_with_links)\n",
        "  documents_summarized_combined_polished = documents_summarized_combined.replace(\"🤝\", \"\")\n",
        "\n",
        "  message_template = Template('*$title*\\n\\n$documents_summarized_combined\\n\\n$cta')\n",
        "  return message_template.safe_substitute(title=title, documents_summarized_combined=documents_summarized_combined_polished, cta=cta)\n"
      ],
      "metadata": {
        "id": "ANsIYq71PvKT"
      },
      "execution_count": null,
      "outputs": []
    },
    {
      "cell_type": "markdown",
      "source": [
        "# Texts utils"
      ],
      "metadata": {
        "id": "a8xfWy9if1al"
      }
    },
    {
      "cell_type": "code",
      "source": [
        "from datetime import date, timedelta\n",
        "\n",
        "def getFormattedCurrentDate ():\n",
        "    today = date.today() + timedelta(days=-1)\n",
        "    return today.strftime(\"%d-%m-%Y\")"
      ],
      "metadata": {
        "id": "3hhSIl1WkquD"
      },
      "execution_count": null,
      "outputs": []
    },
    {
      "cell_type": "code",
      "source": [
        "import re\n",
        "from glob import glob\n",
        "from string import Template\n",
        "from langchain.docstore.document import Document\n",
        "\n",
        "def getFilesFromPreviousDay ():\n",
        "  currentDate = getFormattedCurrentDate()\n",
        "  path_template = Template('drive/MyDrive/prasowka/$currentDate/*')\n",
        "  path = path_template.substitute(currentDate=currentDate)\n",
        "  return glob(path)\n",
        "\n",
        "def getFileNameFromPreviousDayByIndex (index):\n",
        "  files = getFilesFromPreviousDay()\n",
        "  return files[index].split(\"/\").pop()\n",
        "\n",
        "def getDocumentTextWithoutMetadata (text):\n",
        "  text_regex = re.search(r\"(^# .+\\n$)([\\s\\S]*?)(?=# )\", text, flags=re.M)\n",
        "\n",
        "  metacontext = [\n",
        "      'Give a context in which the decision is supposed to be made. Keep it simple, but include important details and as much constraints as possible.',\n",
        "      'List all problems that we want to address',\n",
        "      'Include hypothesis, that you want to test or experiment on',\n",
        "      'List your implementation plan to make other aware what will happen next after the ist all points with bullets that would define that this experiment was successful or not',\n",
        "      'Why you think owner(s) should be responsible for making this decision',\n",
        "      text_regex.groups()[1]\n",
        "  ]\n",
        "\n",
        "  for meta in metacontext:\n",
        "    text = text.replace(meta, \"\")\n",
        "\n",
        "  return text\n",
        "\n",
        "def getDocumentsTexts ():\n",
        "  files = getFilesFromPreviousDay()\n",
        "\n",
        "  for file_key, file in enumerate(files):\n",
        "    with open(file) as f: content = f.read()\n",
        "    files[file_key] = content\n",
        "\n",
        "  return files\n",
        "\n",
        "def mapTextsToDocuments (texts):\n",
        "  return [Document(page_content=t) for t in texts]\n",
        "\n",
        "def getDocuments ():\n",
        "  texts = getDocumentsTexts()\n",
        "  return mapTextsToDocuments(texts)"
      ],
      "metadata": {
        "id": "tS4nNBV61t1G"
      },
      "execution_count": null,
      "outputs": []
    },
    {
      "cell_type": "code",
      "source": [
        "from slugify import slugify\n",
        "\n",
        "def getLinkToDocumentByFileIndex (index):\n",
        "  file_name = getFileNameFromPreviousDayByIndex(index).replace(\".md\", \"\")\n",
        "  file_name_slug = slugify(file_name)\n",
        "  return (f\"https://www.notion.so/appunite/{file_name_slug}\")\n",
        "\n",
        "def getTitleOfDocumentByFileIndex (index):\n",
        "  files = getFilesFromPreviousDay()\n",
        "  with open(files[index]) as f: title = f.readline()\n",
        "  title_without_formatting = title.replace(\"# \", \"\").strip()\n",
        "  \n",
        "  return title_without_formatting"
      ],
      "metadata": {
        "id": "u7HTcUdNjMJP"
      },
      "execution_count": null,
      "outputs": []
    },
    {
      "cell_type": "markdown",
      "source": [
        "# Prompts"
      ],
      "metadata": {
        "id": "-sXRMPkLjWXP"
      }
    },
    {
      "cell_type": "code",
      "source": [
        "from langchain.prompts import PromptTemplate\n",
        "\n",
        "SUMMARIZE_SINGLE_LONG_PROMPT_TEMPLATE = \"\"\"Summarize text below in points. Provide important information.\n",
        "\n",
        "Summarize Title\n",
        "Summarize \"Context\"\n",
        "Summarize \"What problems do we aim to solve\"\n",
        "Summarize \"Hypothesis\"\n",
        "Summarize \"Implementation plan\"\n",
        "Summarize \"Why the owner(s) should make this decision\"\n",
        "\n",
        "{text}\n",
        "\"\"\"\n",
        "\n",
        "SUMMARIZE_SINGLE_SHORT_PROMPT_TEMPLATE = \"\"\"\n",
        "Summarize the following information in a short, catchy, engaging sentence in English. Use ONE emoji referring to the text but NOT the decision.\n",
        "\n",
        "Examples (DO NOT USE THEM):\n",
        "- 😒 Our health industry client in the USA is proving to be a bit difficult with their lack of openness and strange demands. Plus, they won't even review our NDA template. Can we really trust them?\n",
        "- 📈 We're migrating to GA4 and creating a Slack channel to keep things organized. Efficiency, baby!\n",
        "- 🤝 Our improved exit interview process will give us valuable feedback and keep the team running smoothly.\n",
        "- 🚀 We're launching a new product next month and our team is working tirelessly to make it a success. Buckle up, it's going to be a wild ride!\n",
        "- 👥 We're expanding our team and hiring for several positions. Know anyone who would be a perfect fit? Let us know!\n",
        "\n",
        "Use emojis but NEVER 🤝. Write ONLY IN ENGLISH:\n",
        "\n",
        "{text}\n",
        "\"\"\"\n",
        "\n",
        "SUMMARIZE_TITLE_DAY_PROMPT_TEMPLATE = \"\"\"\n",
        "Write similar title of a message which will include a summary of decisions from last week. Use emojis.\n",
        "\n",
        "Examples (do not use them):\n",
        "🔥 We made some 🔝 moves last week! Check out what's new!\n",
        "🎉 Exciting news! Big things were made last week! 🙌\n",
        "🤯 Hold onto your hats! Last week's documents will blow your mind!\n",
        "🚀 Blast off into the future! Last week's decisions will take us to new heights! 🚀\n",
        "💥 Brace yourselves! We've got some major updates that will blow your mind! \n",
        "🎊 Hold onto your seats, exciting news is coming your way! 🎉\n",
        "😱 Get ready to be amazed! We've got some incredible developments to share with you!\n",
        "🌟 It's time to shine! Our latest moves will take us to the next level! ✨\n",
        "🚀 Buckle up, we're launching into a new era of success! 🚀\n",
        "\n",
        "\n",
        "\"\"\"\n",
        "\n",
        "SUMMARIZE_CTA_DAY_PROMPT_TEMPLATE = \"\"\"\n",
        "Write a catchy sentence ending a summary of decisions from last week. Use emojis.\n",
        "\n",
        "\n",
        "\"\"\"\n",
        "\n",
        "SUMMARIZE_SINGLE_LONG_PROMPT = PromptTemplate(template=SUMMARIZE_SINGLE_LONG_PROMPT_TEMPLATE, input_variables=[\"text\"])\n",
        "SUMMARIZE_SINGLE_SHORT_PROMPT = PromptTemplate(template=SUMMARIZE_SINGLE_SHORT_PROMPT_TEMPLATE, input_variables=[\"text\"])\n",
        "SUMMARIZE_TITLE_DAY_PROMPT = PromptTemplate(template=SUMMARIZE_TITLE_DAY_PROMPT_TEMPLATE, input_variables=[])\n",
        "SUMMARIZE_CTA_DAY_PROMPT = PromptTemplate(template=SUMMARIZE_CTA_DAY_PROMPT_TEMPLATE, input_variables=[])"
      ],
      "metadata": {
        "id": "vPgs234HjYFW"
      },
      "execution_count": null,
      "outputs": []
    },
    {
      "cell_type": "markdown",
      "source": [
        "# Summarization of texts"
      ],
      "metadata": {
        "id": "TTtMzO8lf7BO"
      }
    },
    {
      "cell_type": "code",
      "source": [
        "import asyncio\n",
        "\n",
        "async def promptSingleText (chain, text):\n",
        "  return await chain.arun({\"input_documents\": [text], \"text\": text})\n",
        "\n",
        "async def promptMultipleTexts (chain, texts):\n",
        "  texts_prompt_promise = [promptSingleText(chain, t) for t in texts]\n",
        "  texts_prompt = await asyncio.gather(*texts_prompt_promise)\n",
        "  return texts_prompt"
      ],
      "metadata": {
        "id": "n-oXp0w_gbCy"
      },
      "execution_count": null,
      "outputs": []
    },
    {
      "cell_type": "markdown",
      "source": [
        "# Summarization of whole day"
      ],
      "metadata": {
        "id": "JgOaOF2Rf_5q"
      }
    },
    {
      "cell_type": "code",
      "source": [
        "from langchain.chains.summarize import load_summarize_chain\n",
        "from langchain.chains import LLMChain\n",
        "\n",
        "summarize_individual_long_chain = LLMChain(llm=llm, prompt=SUMMARIZE_SINGLE_LONG_PROMPT)\n",
        "summarize_individual_short_chain = LLMChain(llm=llm, prompt=SUMMARIZE_SINGLE_SHORT_PROMPT)\n",
        "summarize_title_day_chain = LLMChain(llm=llm_creative, prompt=SUMMARIZE_TITLE_DAY_PROMPT)\n",
        "summarize_cta_day_chain = LLMChain(llm=llm_creative, prompt=SUMMARIZE_CTA_DAY_PROMPT)\n",
        "\n",
        "async def getSummarizedLong (documents):\n",
        "  return await promptMultipleTexts(summarize_individual_long_chain, documents)\n",
        "\n",
        "async def getSummarizedShortOfLong (documents):\n",
        "  return await promptMultipleTexts(summarize_individual_short_chain, documents)\n",
        "\n",
        "async def getSummarizeTitle ():\n",
        "  return await promptSingleText(summarize_title_day_chain, '')\n",
        "\n",
        "async def getSummarizeCTA ():\n",
        "  return await promptSingleText(summarize_cta_day_chain, '')\n",
        "\n",
        "async def getSummarizedAllDayMessage (documents, type=\"text\"):\n",
        "  day_summarize_title, day_summarize_cta, documents_summarized_long = await asyncio.gather(*[getSummarizeTitle(), getSummarizeCTA(), getSummarizedLong(documents)])\n",
        "\n",
        "  day_summarize_title_escaped = day_summarize_title.replace('\"', '')\n",
        "  day_summarize_cta_escaped = day_summarize_cta.replace('\"', '')\n",
        "\n",
        "  documents_summarized_long_parsed = mapTextsToDocuments(documents_summarized_long)\n",
        "  documents_summarized_short = await getSummarizedShortOfLong(documents_summarized_long_parsed)\n",
        "\n",
        "  if type == \"blocks\":\n",
        "    documents_summarized_list = [d.replace(\"\\n\", \"\") for d in documents_summarized_short]\n",
        "    return getSlackMessageAsBlocks(day_summarize_title_escaped, day_summarize_cta_escaped, documents_summarized_list) \n",
        "\n",
        "  documents_summarized_list = [d.replace(\"\\n\", \"- \") for d in documents_summarized_short]\n",
        "  return getSlackMessageAsPlainText(day_summarize_title_escaped, day_summarize_cta_escaped, documents_summarized_list)"
      ],
      "metadata": {
        "id": "kS9wDzLqoICl"
      },
      "execution_count": null,
      "outputs": []
    },
    {
      "cell_type": "markdown",
      "source": [
        "# Bootstrap"
      ],
      "metadata": {
        "id": "n6kDj1ByllG9"
      }
    },
    {
      "cell_type": "code",
      "source": [
        "def getDebugInfo(time_of_exec):\n",
        "  return (f\"\"\"\n",
        "*time of execution:* {round(time_of_exec, 2)}s\n",
        "*llm base temp (summary)*: {os.environ[\"LLM_TEMP\"]}\n",
        "*llm creative temp (title, cta)*: {os.environ[\"LLM_CREATIVE_TEMP\"]}\n",
        "\n",
        "---\n",
        "\n",
        "*beginning prompt*: ```{SUMMARIZE_TITLE_DAY_PROMPT_TEMPLATE}```\\n\\n\n",
        "*summary long prompt*: ```{SUMMARIZE_SINGLE_SHORT_PROMPT_TEMPLATE}```\\n\\n\n",
        "*summary short prompt*: ```{SUMMARIZE_SINGLE_SHORT_PROMPT_TEMPLATE}```\\n\\n\n",
        "*ending prompt*: ```{SUMMARIZE_CTA_DAY_PROMPT_TEMPLATE}```\"\"\")"
      ],
      "metadata": {
        "id": "e2-c-nRdhS06"
      },
      "execution_count": null,
      "outputs": []
    },
    {
      "cell_type": "code",
      "source": [
        "import time\n",
        "\n",
        "async def bootstrap ():\n",
        "  documents = getDocuments()\n",
        "  no_documents = len(documents) == 0\n",
        "  \n",
        "  if no_documents:\n",
        "    return\n",
        "  \n",
        "  start_time = time.time()\n",
        "  today_message_text = await getSummarizedAllDayMessage(documents)\n",
        "  end_time = time.time()\n",
        "  message_slack_response = sendMessageToChannel(text=today_message_text)\n",
        "\n",
        "  if os.environ[\"DEBUG_MODE\"]:\n",
        "    details = getDebugInfo(end_time - start_time)\n",
        "    sendMessageToChannel(text=details, blocks=None, previous_response=message_slack_response)\n",
        "\n",
        "  print(today_message_text)\n",
        "\n",
        "await bootstrap()"
      ],
      "metadata": {
        "colab": {
          "base_uri": "https://localhost:8080/"
        },
        "id": "C0n1WzUbge2A",
        "outputId": "d9887be9-4186-4a0c-f866-148bfa22c616"
      },
      "execution_count": null,
      "outputs": [
        {
          "output_type": "stream",
          "name": "stdout",
          "text": [
            "*📣 Summarizing Last Week's Decisions – There's Big News Ahead! 🤩*\n",
            "\n",
            "- 💪 Introducing Damian Dębicki to the client as an experienced Backend Developer and Team Leader to make a bigger impact at the beginning of cooperation with OPNR! `<https://www.notion.so/appunite/lets-start-opnr-with-dembol-on-be-8ed0c1b95faf4c6ca5c72c2548765e95|*[link]*>`\n",
            "- - - 🤹‍♂️ ReverlyLabs is looking to add Semir to their team to help manage their workload and convince their client of the value of a larger team! `<https://www.notion.so/appunite/we-would-like-to-add-semir-to-reverlylabs-team-eb109641c502448c8545a9a865464c94|*[link]*>`\n",
            "- 🤔 Our team is trying out a new approach to weekly planning to help prioritize tasks, track progress, and provide context to what others are doing. Let's see if it works! 🤞 `<https://www.notion.so/appunite/marketing-will-start-using-different-approach-to-p-f5877ceb29ec48c49ebfda4874c95043|*[link]*>`\n",
            "-  Our proposal to name Tadeusz Miesiac as the owner of The Bench team will give them the authority to act and solve the lack of bench owner. 🚀 `<https://www.notion.so/appunite/tadeusz-miesiac-takes-the-owner-of-the-bench-team-e2d5217629b54a56b2c13b20ce5500d0|*[link]*>`\n",
            "\n",
            "We made some tough but beneficial decisions last week - 🤝🤝🤩 let's see what this week brings!\n"
          ]
        }
      ]
    }
  ]
}