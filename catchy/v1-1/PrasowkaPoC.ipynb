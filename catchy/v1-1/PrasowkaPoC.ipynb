{
  "nbformat": 4,
  "nbformat_minor": 0,
  "metadata": {
    "colab": {
      "provenance": []
    },
    "kernelspec": {
      "name": "python3",
      "display_name": "Python 3"
    },
    "language_info": {
      "name": "python"
    }
  },
  "cells": [
    {
      "cell_type": "markdown",
      "source": [
        "# Initialize"
      ],
      "metadata": {
        "id": "7L2H5N7uiScZ"
      }
    },
    {
      "cell_type": "markdown",
      "source": [
        "# Initialization"
      ],
      "metadata": {
        "id": "kvmKbKxZfy-C"
      }
    },
    {
      "cell_type": "code",
      "execution_count": null,
      "metadata": {
        "id": "4pT8IHwViJrD",
        "colab": {
          "base_uri": "https://localhost:8080/"
        },
        "outputId": "a0201b7b-b157-4baf-d82e-7f76a71edc1a"
      },
      "outputs": [
        {
          "output_type": "stream",
          "name": "stdout",
          "text": [
            "Looking in indexes: https://pypi.org/simple, https://us-python.pkg.dev/colab-wheels/public/simple/\n",
            "Requirement already satisfied: langchain in /usr/local/lib/python3.10/dist-packages (0.0.165)\n",
            "Requirement already satisfied: openai in /usr/local/lib/python3.10/dist-packages (0.27.6)\n",
            "Requirement already satisfied: tiktoken in /usr/local/lib/python3.10/dist-packages (0.4.0)\n",
            "Requirement already satisfied: slack_sdk in /usr/local/lib/python3.10/dist-packages (3.21.3)\n",
            "Requirement already satisfied: python-slugify in /usr/local/lib/python3.10/dist-packages (8.0.1)\n",
            "Requirement already satisfied: PyYAML>=5.4.1 in /usr/local/lib/python3.10/dist-packages (from langchain) (6.0)\n",
            "Requirement already satisfied: SQLAlchemy<3,>=1.4 in /usr/local/lib/python3.10/dist-packages (from langchain) (2.0.10)\n",
            "Requirement already satisfied: aiohttp<4.0.0,>=3.8.3 in /usr/local/lib/python3.10/dist-packages (from langchain) (3.8.4)\n",
            "Requirement already satisfied: async-timeout<5.0.0,>=4.0.0 in /usr/local/lib/python3.10/dist-packages (from langchain) (4.0.2)\n",
            "Requirement already satisfied: dataclasses-json<0.6.0,>=0.5.7 in /usr/local/lib/python3.10/dist-packages (from langchain) (0.5.7)\n",
            "Requirement already satisfied: numexpr<3.0.0,>=2.8.4 in /usr/local/lib/python3.10/dist-packages (from langchain) (2.8.4)\n",
            "Requirement already satisfied: numpy<2,>=1 in /usr/local/lib/python3.10/dist-packages (from langchain) (1.22.4)\n",
            "Requirement already satisfied: openapi-schema-pydantic<2.0,>=1.2 in /usr/local/lib/python3.10/dist-packages (from langchain) (1.2.4)\n",
            "Requirement already satisfied: pydantic<2,>=1 in /usr/local/lib/python3.10/dist-packages (from langchain) (1.10.7)\n",
            "Requirement already satisfied: requests<3,>=2 in /usr/local/lib/python3.10/dist-packages (from langchain) (2.27.1)\n",
            "Requirement already satisfied: tenacity<9.0.0,>=8.1.0 in /usr/local/lib/python3.10/dist-packages (from langchain) (8.2.2)\n",
            "Requirement already satisfied: tqdm>=4.48.0 in /usr/local/lib/python3.10/dist-packages (from langchain) (4.65.0)\n",
            "Requirement already satisfied: regex>=2022.1.18 in /usr/local/lib/python3.10/dist-packages (from tiktoken) (2022.10.31)\n",
            "Requirement already satisfied: text-unidecode>=1.3 in /usr/local/lib/python3.10/dist-packages (from python-slugify) (1.3)\n",
            "Requirement already satisfied: attrs>=17.3.0 in /usr/local/lib/python3.10/dist-packages (from aiohttp<4.0.0,>=3.8.3->langchain) (23.1.0)\n",
            "Requirement already satisfied: charset-normalizer<4.0,>=2.0 in /usr/local/lib/python3.10/dist-packages (from aiohttp<4.0.0,>=3.8.3->langchain) (2.0.12)\n",
            "Requirement already satisfied: multidict<7.0,>=4.5 in /usr/local/lib/python3.10/dist-packages (from aiohttp<4.0.0,>=3.8.3->langchain) (6.0.4)\n",
            "Requirement already satisfied: yarl<2.0,>=1.0 in /usr/local/lib/python3.10/dist-packages (from aiohttp<4.0.0,>=3.8.3->langchain) (1.9.2)\n",
            "Requirement already satisfied: frozenlist>=1.1.1 in /usr/local/lib/python3.10/dist-packages (from aiohttp<4.0.0,>=3.8.3->langchain) (1.3.3)\n",
            "Requirement already satisfied: aiosignal>=1.1.2 in /usr/local/lib/python3.10/dist-packages (from aiohttp<4.0.0,>=3.8.3->langchain) (1.3.1)\n",
            "Requirement already satisfied: marshmallow<4.0.0,>=3.3.0 in /usr/local/lib/python3.10/dist-packages (from dataclasses-json<0.6.0,>=0.5.7->langchain) (3.19.0)\n",
            "Requirement already satisfied: marshmallow-enum<2.0.0,>=1.5.1 in /usr/local/lib/python3.10/dist-packages (from dataclasses-json<0.6.0,>=0.5.7->langchain) (1.5.1)\n",
            "Requirement already satisfied: typing-inspect>=0.4.0 in /usr/local/lib/python3.10/dist-packages (from dataclasses-json<0.6.0,>=0.5.7->langchain) (0.8.0)\n",
            "Requirement already satisfied: typing-extensions>=4.2.0 in /usr/local/lib/python3.10/dist-packages (from pydantic<2,>=1->langchain) (4.5.0)\n",
            "Requirement already satisfied: urllib3<1.27,>=1.21.1 in /usr/local/lib/python3.10/dist-packages (from requests<3,>=2->langchain) (1.26.15)\n",
            "Requirement already satisfied: certifi>=2017.4.17 in /usr/local/lib/python3.10/dist-packages (from requests<3,>=2->langchain) (2022.12.7)\n",
            "Requirement already satisfied: idna<4,>=2.5 in /usr/local/lib/python3.10/dist-packages (from requests<3,>=2->langchain) (3.4)\n",
            "Requirement already satisfied: greenlet!=0.4.17 in /usr/local/lib/python3.10/dist-packages (from SQLAlchemy<3,>=1.4->langchain) (2.0.2)\n",
            "Requirement already satisfied: packaging>=17.0 in /usr/local/lib/python3.10/dist-packages (from marshmallow<4.0.0,>=3.3.0->dataclasses-json<0.6.0,>=0.5.7->langchain) (23.1)\n",
            "Requirement already satisfied: mypy-extensions>=0.3.0 in /usr/local/lib/python3.10/dist-packages (from typing-inspect>=0.4.0->dataclasses-json<0.6.0,>=0.5.7->langchain) (1.0.0)\n"
          ]
        }
      ],
      "source": [
        "pip install langchain openai tiktoken slack_sdk python-slugify"
      ]
    },
    {
      "cell_type": "code",
      "source": [
        "import os\n",
        "\n",
        "os.environ[\"OPENAI_API_KEY\"] = \"\"\n",
        "os.environ[\"SLACK_BOT_TOKEN\"] = \"\"\n",
        "os.environ[\"SLACK_BOT_CHANNEL\"] = \"\"\n",
        "os.environ[\"DEBUG_MODE\"] = \"TRUE\"\n",
        "os.environ[\"LLM_TEMP\"] = \"0\"\n",
        "os.environ[\"LLM_CREATIVE_TEMP\"] = \"1\""
      ],
      "metadata": {
        "id": "XqEhXZIBV12a"
      },
      "execution_count": null,
      "outputs": []
    },
    {
      "cell_type": "code",
      "source": [
        "import os\n",
        "from langchain.llms import OpenAI\n",
        "\n",
        "llm = OpenAI(temperature=int(os.environ[\"LLM_TEMP\"]))\n",
        "llm_creative = OpenAI(temperature=int(os.environ[\"LLM_CREATIVE_TEMP\"]))"
      ],
      "metadata": {
        "id": "k8E8-UAXiX42"
      },
      "execution_count": null,
      "outputs": []
    },
    {
      "cell_type": "code",
      "source": [
        "import os\n",
        "from slack_sdk import WebClient\n",
        "from slack_sdk.errors import SlackApiError\n",
        "\n",
        "slack_token = os.environ[\"SLACK_BOT_TOKEN\"]\n",
        "slack_client = WebClient(token=slack_token)"
      ],
      "metadata": {
        "id": "uUrklLMcVlKJ"
      },
      "execution_count": null,
      "outputs": []
    },
    {
      "cell_type": "markdown",
      "source": [
        "# Slack"
      ],
      "metadata": {
        "id": "OdZRMXPjWJFb"
      }
    },
    {
      "cell_type": "code",
      "source": [
        "def sendMessageToChannel (text=\"\", blocks=None, previous_response=None):\n",
        "  thread_ts = None if previous_response is None else previous_response['ts']\n",
        "\n",
        "  return slack_client.chat_postMessage(\n",
        "        channel=os.environ[\"SLACK_BOT_CHANNEL\"],\n",
        "        text=text,\n",
        "        blocks=blocks,\n",
        "        type=\"mrkdwn\",\n",
        "        thread_ts=thread_ts\n",
        "  )"
      ],
      "metadata": {
        "id": "xo5ZVfKOWK7a"
      },
      "execution_count": null,
      "outputs": []
    },
    {
      "cell_type": "code",
      "source": [
        "def getSlackMessageAsBlocks (title, cta, documents_summarized_list):\n",
        "  blocks = [\n",
        "    {\n",
        "\t\t\t\"type\": \"header\",\n",
        "\t\t\t\"text\": {\n",
        "\t\t\t\t\"type\": \"plain_text\",\n",
        "\t\t\t\t\"text\": title,\n",
        "\t\t\t\t\"emoji\": True\n",
        "\t\t\t}\n",
        "\t\t},\n",
        "  ]\n",
        "  \n",
        "  for index, text in enumerate(documents_summarized_list):\n",
        "    url = getLinkToDocumentByFileIndex(index)\n",
        "    section_title = getTitleOfDocumentByFileIndex(index)\n",
        "\n",
        "    blocks.append({\n",
        "\t\t\t\"type\": \"section\",\n",
        "\t\t\t\"text\": {\n",
        "\t\t\t\t\"type\": \"mrkdwn\",\n",
        "\t\t\t\t\"text\": f\"{text}\"\n",
        "\t\t\t},\n",
        "\t\t\t\"accessory\": {\n",
        "\t\t\t\t\"type\": \"button\",\n",
        "\t\t\t\t\"text\": {\n",
        "\t\t\t\t\t\"type\": \"plain_text\",\n",
        "\t\t\t\t\t\"emoji\": True,\n",
        "\t\t\t\t\t\"text\": \"Learn More\"\n",
        "\t\t\t\t},\n",
        "\t\t\t\t\"url\": url,\n",
        "\t\t\t\t\"action_id\": f\"button_{index}\"\n",
        "\t\t\t}\n",
        "\t\t})\n",
        "\n",
        "  blocks.append({\n",
        "     \"type\": \"divider\"\n",
        "  })\n",
        "\n",
        "  blocks.append(\n",
        "\t\t{\n",
        "\t\t\t\"type\": \"section\",\n",
        "\t\t\t\"text\": {\n",
        "\t\t\t\t\"type\": \"mrkdwn\",\n",
        "\t\t\t\t\"text\": cta\n",
        "\t\t\t}\n",
        "  })\n",
        "\n",
        "  return blocks"
      ],
      "metadata": {
        "id": "FNGDKdcFChRl"
      },
      "execution_count": null,
      "outputs": []
    },
    {
      "cell_type": "code",
      "source": [
        "def getSlackMessageAsPlainText (title, cta, documents_summarized_short):\n",
        "  documents_summarized_list = [d.replace(\"\\n\", \"- \") for d in documents_summarized_short]\n",
        "  documents_summarized_list_with_links = [f\"{d} `<{getLinkToDocumentByFileIndex(i)}|*[link]*>`\" for i, d in enumerate(documents_summarized_list)]\n",
        "  documents_summarized_combined = \"\\n\".join(documents_summarized_list_with_links)\n",
        "\n",
        "  message_template = Template('*$title*\\n\\n$documents_summarized_combined\\n\\n$cta')\n",
        "  return message_template.safe_substitute(title=title, documents_summarized_combined=documents_summarized_combined, cta=cta)\n"
      ],
      "metadata": {
        "id": "ANsIYq71PvKT"
      },
      "execution_count": null,
      "outputs": []
    },
    {
      "cell_type": "markdown",
      "source": [
        "# Texts utils"
      ],
      "metadata": {
        "id": "a8xfWy9if1al"
      }
    },
    {
      "cell_type": "code",
      "source": [
        "from datetime import date, timedelta\n",
        "\n",
        "def getFormattedCurrentDate ():\n",
        "    today = date.today() + timedelta(days=-1)\n",
        "    return today.strftime(\"%d-%m-%Y\")"
      ],
      "metadata": {
        "id": "3hhSIl1WkquD"
      },
      "execution_count": null,
      "outputs": []
    },
    {
      "cell_type": "code",
      "source": [
        "from glob import glob\n",
        "from string import Template\n",
        "from langchain.docstore.document import Document\n",
        "\n",
        "def getFilesFromPreviousDay ():\n",
        "  currentDate = getFormattedCurrentDate()\n",
        "  path_template = Template('drive/MyDrive/prasowka/$currentDate/*')\n",
        "  path = path_template.substitute(currentDate=currentDate)\n",
        "  return glob(path)\n",
        "\n",
        "def getFileNameFromPreviousDayByIndex (index):\n",
        "  files = getFilesFromPreviousDay()\n",
        "  return files[index].split(\"/\").pop()\n",
        "\n",
        "def getDocumentsTexts ():\n",
        "  files = getFilesFromPreviousDay()\n",
        "\n",
        "  for file_key, file in enumerate(files):\n",
        "    with open(file) as f: contents = f.read()\n",
        "    files[file_key] = contents\n",
        "\n",
        "  return files\n",
        "\n",
        "def mapTextsToDocuments (texts):\n",
        "  return [Document(page_content=t) for t in texts]\n",
        "\n",
        "def getDocuments ():\n",
        "  texts = getDocumentsTexts()\n",
        "  return mapTextsToDocuments(texts)"
      ],
      "metadata": {
        "id": "tS4nNBV61t1G"
      },
      "execution_count": null,
      "outputs": []
    },
    {
      "cell_type": "code",
      "source": [
        "from slugify import slugify\n",
        "\n",
        "def getLinkToDocumentByFileIndex (index):\n",
        "  file_name = getFileNameFromPreviousDayByIndex(index).replace(\".md\", \"\")\n",
        "  file_name_slug = slugify(file_name)\n",
        "  return (f\"https://www.notion.so/appunite/{file_name_slug}\")\n",
        "\n",
        "def getTitleOfDocumentByFileIndex (index):\n",
        "  files = getFilesFromPreviousDay()\n",
        "  with open(files[index]) as f: title = f.readline()\n",
        "  title_without_formatting = title.replace(\"# \", \"\").strip()\n",
        "  \n",
        "  return title_without_formatting"
      ],
      "metadata": {
        "id": "u7HTcUdNjMJP"
      },
      "execution_count": null,
      "outputs": []
    },
    {
      "cell_type": "markdown",
      "source": [
        "# Prompts"
      ],
      "metadata": {
        "id": "-sXRMPkLjWXP"
      }
    },
    {
      "cell_type": "code",
      "source": [
        "from langchain.prompts import PromptTemplate\n",
        "\n",
        "SUMMARIZE_SINGLE_LONG_PROMPT_TEMPLATE = \"\"\"Summarize text below in points. Provide important information.\n",
        "\n",
        "Summarize Title\n",
        "Summarize \"Context\"\n",
        "Summarize \"What problems do we aim to solve\"\n",
        "Summarize \"Hypothesis\"\n",
        "Summarize \"Implementation plan\"\n",
        "Summarize \"Why the owner(s) should make this decision\"\n",
        "\n",
        "{text}\n",
        "\"\"\"\n",
        "\n",
        "SUMMARIZE_SINGLE_SHORT_PROMPT_TEMPLATE = \"\"\"\n",
        "Summarize the following information in a short, catchy, engaging sentence in English. Use one emoji referring to the text but not the decision.\n",
        "\n",
        "Examples (DO NOT USE THEM):\n",
        "- 😒 Our health industry client in the USA is proving to be a bit difficult with their lack of openness and strange demands. Plus, they won't even review our NDA template. Can we really trust them?\n",
        "- 📈 We're migrating to GA4 and creating a Slack channel to keep things organized. Efficiency, baby!\n",
        "- 🤝 Our improved exit interview process will give us valuable feedback and keep the team running smoothly.\n",
        "- 🚀 We're launching a new product next month and our team is working tirelessly to make it a success. Buckle up, it's going to be a wild ride!\n",
        "- 👥 We're expanding our team and hiring for several positions. Know anyone who would be a perfect fit? Let us know!\n",
        "\n",
        "TEXT:\n",
        "{text}\n",
        "\"\"\"\n",
        "\n",
        "SUMMARIZE_TITLE_DAY_PROMPT_TEMPLATE = \"\"\"\n",
        "Write similar title of a message which will include a summary of decisions from yesterday. Use emojis.\n",
        "\n",
        "Examples (do not use them):\n",
        "🔥 We made some 🔝 moves yesterday! Check out what's new!\n",
        "🎉 Exciting news! Big things were made yesterday! 🙌\n",
        "🤯 Hold onto your hats! Yesterday's documents will blow your mind!\n",
        "🚀 Blast off into the future! Yesterday's decisions will take us to new heights! 🚀\n",
        "💥 Brace yourselves! We've got some major updates that will blow your mind! \n",
        "🎊 Hold onto your seats, exciting news is coming your way! 🎉\n",
        "😱 Get ready to be amazed! We've got some incredible developments to share with you!\n",
        "🌟 It's time to shine! Our latest moves will take us to the next level! ✨\n",
        "🚀 Buckle up, we're launching into a new era of success! 🚀\n",
        "\n",
        "\n",
        "\"\"\"\n",
        "\n",
        "SUMMARIZE_CTA_DAY_PROMPT_TEMPLATE = \"\"\"\n",
        "Write a catchy sentence ending a summary of decisions from yesterday. Use emojis.\n",
        "\n",
        "\n",
        "\"\"\"\n",
        "\n",
        "SUMMARIZE_SINGLE_LONG_PROMPT = PromptTemplate(template=SUMMARIZE_SINGLE_LONG_PROMPT_TEMPLATE, input_variables=[\"text\"])\n",
        "SUMMARIZE_SINGLE_SHORT_PROMPT = PromptTemplate(template=SUMMARIZE_SINGLE_SHORT_PROMPT_TEMPLATE, input_variables=[\"text\"])\n",
        "SUMMARIZE_TITLE_DAY_PROMPT = PromptTemplate(template=SUMMARIZE_TITLE_DAY_PROMPT_TEMPLATE, input_variables=[])\n",
        "SUMMARIZE_CTA_DAY_PROMPT = PromptTemplate(template=SUMMARIZE_CTA_DAY_PROMPT_TEMPLATE, input_variables=[])"
      ],
      "metadata": {
        "id": "vPgs234HjYFW"
      },
      "execution_count": null,
      "outputs": []
    },
    {
      "cell_type": "markdown",
      "source": [
        "# Summarization of texts"
      ],
      "metadata": {
        "id": "TTtMzO8lf7BO"
      }
    },
    {
      "cell_type": "code",
      "source": [
        "import asyncio\n",
        "\n",
        "async def promptSingleText (chain, text):\n",
        "  return await chain.arun({\"input_documents\": [text], \"text\": text})\n",
        "\n",
        "async def promptMultipleTexts (chain, texts):\n",
        "  texts_prompt_promise = [promptSingleText(chain, t) for t in texts]\n",
        "  texts_prompt = await asyncio.gather(*texts_prompt_promise)\n",
        "  return texts_prompt"
      ],
      "metadata": {
        "id": "n-oXp0w_gbCy"
      },
      "execution_count": null,
      "outputs": []
    },
    {
      "cell_type": "markdown",
      "source": [
        "# Summarization of whole day"
      ],
      "metadata": {
        "id": "JgOaOF2Rf_5q"
      }
    },
    {
      "cell_type": "code",
      "source": [
        "from langchain.chains.summarize import load_summarize_chain\n",
        "from langchain.chains import LLMChain\n",
        "\n",
        "# summarize chain provides auto text-splitting but we need to research more how it works\n",
        "# getSummarizeIndividualLongChain = lambda: load_summarize_chain(llm, chain_type=\"map_reduce\", map_prompt=SUMMARIZE_SINGLE_LONG_PROMPT)\n",
        "summarize_individual_long_chain = LLMChain(llm=llm, prompt=SUMMARIZE_SINGLE_LONG_PROMPT)\n",
        "# getSummarizeIndividualShortChain = lambda: load_summarize_chain(llm, chain_type=\"map_reduce\", map_prompt=SUMMARIZE_SINGLE_SHORT_PROMPT)\n",
        "summarize_individual_short_chain = LLMChain(llm=llm, prompt=SUMMARIZE_SINGLE_SHORT_PROMPT)\n",
        "#\n",
        "summarize_title_day_chain = LLMChain(llm=llm_creative, prompt=SUMMARIZE_TITLE_DAY_PROMPT)\n",
        "#\n",
        "summarize_cta_day_chain = LLMChain(llm=llm_creative, prompt=SUMMARIZE_CTA_DAY_PROMPT)\n",
        "\n",
        "async def getSummarizedLong (documents):\n",
        "  return await promptMultipleTexts(summarize_individual_long_chain, documents)\n",
        "\n",
        "async def getSummarizedShortOfLong (documents):\n",
        "  return await promptMultipleTexts(summarize_individual_short_chain, documents)\n",
        "\n",
        "async def getSummarizeTitle ():\n",
        "  return await promptSingleText(summarize_title_day_chain, '')\n",
        "\n",
        "async def getSummarizeCTA ():\n",
        "  return await promptSingleText(summarize_cta_day_chain, '')\n",
        "\n",
        "async def getSummarizedAllDayMessage (documents, type=\"text\"):\n",
        "  day_summarize_title, day_summarize_cta, documents_summarized_long = await asyncio.gather(*[getSummarizeTitle(), getSummarizeCTA(), getSummarizedLong(documents)])\n",
        "\n",
        "  day_summarize_title_escaped = day_summarize_title.replace('\"', '')\n",
        "  day_summarize_cta_escaped = day_summarize_cta.replace('\"', '')\n",
        "\n",
        "  documents_summarized_long_parsed = mapTextsToDocuments(documents_summarized_long)\n",
        "  documents_summarized_short = await getSummarizedShortOfLong(documents_summarized_long_parsed)\n",
        "\n",
        "  if type == \"blocks\":\n",
        "    documents_summarized_list = [d.replace(\"\\n\", \"\") for d in documents_summarized_short]\n",
        "    return getSlackMessageAsBlocks(day_summarize_title_escaped, day_summarize_cta_escaped, documents_summarized_list) \n",
        "\n",
        "  documents_summarized_list = [d.replace(\"\\n\", \"- \") for d in documents_summarized_short]\n",
        "  return getSlackMessageAsPlainText(day_summarize_title_escaped, day_summarize_cta_escaped, documents_summarized_list)"
      ],
      "metadata": {
        "id": "kS9wDzLqoICl"
      },
      "execution_count": null,
      "outputs": []
    },
    {
      "cell_type": "markdown",
      "source": [
        "# Bootstrap"
      ],
      "metadata": {
        "id": "n6kDj1ByllG9"
      }
    },
    {
      "cell_type": "code",
      "source": [
        "def getDebugInfo(time_of_exec):\n",
        "  return (f\"\"\"\n",
        "*time of execution:* {round(time_of_exec, 2)}s\n",
        "*llm base temp (summary)*: {os.environ[\"LLM_TEMP\"]}\n",
        "*llm creative temp (title, cta)*: {os.environ[\"LLM_CREATIVE_TEMP\"]}\n",
        "\n",
        "---\n",
        "\n",
        "*beginning prompt*: ```{SUMMARIZE_TITLE_DAY_PROMPT_TEMPLATE}```\\n\\n\n",
        "*summary long prompt*: ```{SUMMARIZE_SINGLE_SHORT_PROMPT_TEMPLATE}```\\n\\n\n",
        "*summary short prompt*: ```{SUMMARIZE_SINGLE_SHORT_PROMPT_TEMPLATE}```\\n\\n\n",
        "*ending prompt*: ```{SUMMARIZE_CTA_DAY_PROMPT_TEMPLATE}```\"\"\")"
      ],
      "metadata": {
        "id": "e2-c-nRdhS06"
      },
      "execution_count": null,
      "outputs": []
    },
    {
      "cell_type": "code",
      "source": [
        "import time\n",
        "\n",
        "async def bootstrap ():\n",
        "  documents = getDocuments()\n",
        "  no_documents = len(documents) == 0\n",
        "  \n",
        "  if no_documents:\n",
        "    return\n",
        "  \n",
        "  start_time = time.time()\n",
        "  today_message_text = await getSummarizedAllDayMessage(documents)\n",
        "  end_time = time.time()\n",
        "  message_slack_response = sendMessageToChannel(text=today_message_text)\n",
        "\n",
        "  if os.environ[\"DEBUG_MODE\"]:\n",
        "    details = getDebugInfo(end_time - start_time)\n",
        "    sendMessageToChannel(text=details, blocks=None, previous_response=message_slack_response)\n",
        "\n",
        "  print(today_message_text)\n",
        "\n",
        "await bootstrap()"
      ],
      "metadata": {
        "colab": {
          "base_uri": "https://localhost:8080/"
        },
        "id": "C0n1WzUbge2A",
        "outputId": "19f48d25-2df9-455d-b62b-c41dcff22fb9"
      },
      "execution_count": null,
      "outputs": [
        {
          "output_type": "stream",
          "name": "stdout",
          "text": [
            "*🤩 Yesterday's Decisions: Amazing Results Ahead! 🤩*\n",
            "\n",
            "- 🤝 We're looking to build the best possible team for our cooperation with Dembol on BE, and introducing Damian Dębicki as a Backend Developer and Team Leader could make a big impact! `<https://www.notion.so/appunite/lets-start-opnr-with-dembol-on-be-8ed0c1b95faf4c6ca5c72c2548765e95|*[link]*>`\n",
            "- 🤝 Adding Semir to the ReverlyLabs team will help the current developers, convince the client of the value of a larger team, and ultimately make a difference - all by May 5, 2023! `<https://www.notion.so/appunite/we-would-like-to-add-semir-to-reverlylabs-team-eb109641c502448c8545a9a865464c94|*[link]*>`\n",
            "- 🔍 We're experimenting with a new tool to give our team context and help prioritize tasks for better weekly planning. 🧪 `<https://www.notion.so/appunite/marketing-will-start-using-different-approach-to-p-f5877ceb29ec48c49ebfda4874c95043|*[link]*>`\n",
            "- 🤝 Tadeusz Miesiac is proposed to take the role of owner of The Bench team to solve the problem of no owner and give them authority to act. `<https://www.notion.so/appunite/tadeusz-miesiac-takes-the-owner-of-the-bench-team-e2d5217629b54a56b2c13b20ce5500d0|*[link]*>`\n",
            "\n",
            "The team concluded yesterday's meeting with clarity and confidence—✅ 💪\n"
          ]
        }
      ]
    }
  ]
}